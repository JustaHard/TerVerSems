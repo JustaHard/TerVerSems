{
 "cells": [
  {
   "cell_type": "code",
   "execution_count": 1,
   "metadata": {},
   "outputs": [],
   "source": [
    "import math\n",
    "import numpy as np"
   ]
  },
  {
   "cell_type": "markdown",
   "metadata": {},
   "source": [
    "# Задание 1. Вероятность того, что стрелок попадет в мишень, выстрелив один раз, равна 0.8. Стрелок выстрелил 100 раз. Найдите вероятность того, что стрелок попадет в цель ровно 85 раз."
   ]
  },
  {
   "cell_type": "code",
   "execution_count": 2,
   "metadata": {},
   "outputs": [
    {
     "data": {
      "text/plain": [
       "'4.81%'"
      ]
     },
     "execution_count": 2,
     "metadata": {},
     "output_type": "execute_result"
    }
   ],
   "source": [
    "def C(A, a):\n",
    "    return (math.factorial(A) / (math.factorial(a) * math.factorial(A-a)))\n",
    "\n",
    "p = 0.8\n",
    "n = 100\n",
    "k = 85\n",
    "\n",
    "P = C(n, k) * p ** k * (1 - p) ** (n - k)\n",
    "f'{round(P*100, 2)}%'"
   ]
  },
  {
   "cell_type": "markdown",
   "metadata": {},
   "source": [
    "# Задание 2. Вероятность того, что лампочка перегорит в течение первого дня эксплуатации, равна 0.0004. В жилом комплексе после ремонта в один день включили 5000 новых лампочек. Какова вероятность, что ни одна из них не перегорит в первый день? Какова вероятность, что перегорят ровно две?"
   ]
  },
  {
   "cell_type": "code",
   "execution_count": 3,
   "metadata": {},
   "outputs": [
    {
     "name": "stdout",
     "output_type": "stream",
     "text": [
      "Перегорит 0: 13.53%\n",
      "Перегорит 2: 27.07%\n"
     ]
    }
   ],
   "source": [
    "p = 0.0004\n",
    "n = 5000\n",
    "k = (0, 2)\n",
    "\n",
    "rate = p * n\n",
    "for i in k:\n",
    "    P = rate ** i / math.factorial(i) * math.exp(-rate)\n",
    "    print(f'Перегорит {i}: {round(P*100, 2)}%')"
   ]
  },
  {
   "cell_type": "markdown",
   "metadata": {},
   "source": [
    "# Задание 3. Монету подбросили 144 раза. Какова вероятность, что орел выпадет ровно 70 раз?"
   ]
  },
  {
   "cell_type": "code",
   "execution_count": 4,
   "metadata": {},
   "outputs": [
    {
     "data": {
      "text/plain": [
       "'6.28%'"
      ]
     },
     "execution_count": 4,
     "metadata": {},
     "output_type": "execute_result"
    }
   ],
   "source": [
    "def C(A, a):\n",
    "    return (math.factorial(A) / (math.factorial(a) * math.factorial(A-a)))\n",
    "\n",
    "n = 144\n",
    "p = 0.5\n",
    "k = 70\n",
    "\n",
    "P_k = C(n, k) * p ** k * (1 - p) ** (n - k)\n",
    "f'{round(P_k*100, 2)}%'"
   ]
  },
  {
   "cell_type": "markdown",
   "metadata": {},
   "source": [
    "# Задание 4. В первом ящике находится 10 мячей, из которых 7 - белые. Во втором ящике - 11 мячей, из которых 9 белых. Из каждого ящика вытаскивают случайным образом по два мяча. Какова вероятность того, что все мячи белые? Какова вероятность того, что ровно два мяча белые? Какова вероятность того, что хотя бы один мяч белый?"
   ]
  },
  {
   "cell_type": "code",
   "execution_count": 5,
   "metadata": {},
   "outputs": [
    {
     "name": "stdout",
     "output_type": "stream",
     "text": [
      "Вероятность вытянуть 4 белых мяча: 30.55%\n",
      "Вероятность вытянуть 2 белых мяча: 20.48%\n",
      "Вероятность вытянуть хотя бы 1 белый мяч: 99.88%\n"
     ]
    }
   ],
   "source": [
    "def C(A, a):\n",
    "    return (math.factorial(A) / (math.factorial(a) * math.factorial(A-a)))\n",
    "\n",
    "n1 = 10\n",
    "m1 = 7\n",
    "n2 = 11\n",
    "m2 = 9\n",
    "\n",
    "# Все 4 мяча белые\n",
    "P0_1 = C(m1, 2) / C(n1, 2)\n",
    "P0_2 = C(m2, 2) / C(n2, 2)\n",
    "P0 = P0_1 * P0_2\n",
    "print(f'Вероятность вытянуть 4 белых мяча: {round(P0*100, 2)}%')\n",
    "\n",
    "# Ровно 2 мяча белые\n",
    "P1_1_0 = C(m1, 2) / C(n1, 2)\n",
    "P1_2_0 = C((n2 - m2), 2) / C(n2, 2)\n",
    "\n",
    "P1_1_1 = C(m1, 1) * C((n1 - m1), 1) / C(n1, 2)\n",
    "P1_2_1 = C(m2, 1) * C((n2 - m2), 1) / C(n2, 2)\n",
    "\n",
    "P1_1_2 = C((n1 - m1), 2) / C(n1, 2)\n",
    "P1_2_2 = C(m2, 2) / C(n2, 2)\n",
    "\n",
    "P1 = P1_1_0 * P1_2_0 + P1_1_1 * P1_2_1 + P1_1_2 * P1_2_2\n",
    "print(f'Вероятность вытянуть 2 белых мяча: {round(P1*100, 2)}%')\n",
    "\n",
    "# Хотя бы 1 шар белый\n",
    "P2_1 = C((n1 - m1), 2) / C(n1, 2)\n",
    "P2_2 = C((n2 - m2), 2) / C(n2, 2)\n",
    "\n",
    "P2 = 1 - P2_1 * P2_2\n",
    "print(f'Вероятность вытянуть хотя бы 1 белый мяч: {round(P2*100, 2)}%')"
   ]
  }
 ],
 "metadata": {
  "kernelspec": {
   "display_name": "env",
   "language": "python",
   "name": "python3"
  },
  "language_info": {
   "codemirror_mode": {
    "name": "ipython",
    "version": 3
   },
   "file_extension": ".py",
   "mimetype": "text/x-python",
   "name": "python",
   "nbconvert_exporter": "python",
   "pygments_lexer": "ipython3",
   "version": "3.12.4"
  }
 },
 "nbformat": 4,
 "nbformat_minor": 2
}
