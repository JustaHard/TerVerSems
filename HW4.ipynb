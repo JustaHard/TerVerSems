{
 "cells": [
  {
   "cell_type": "code",
   "execution_count": 1,
   "metadata": {},
   "outputs": [],
   "source": [
    "import math\n",
    "from scipy.stats import norm"
   ]
  },
  {
   "cell_type": "markdown",
   "metadata": {},
   "source": [
    "# 1. Случайная непрерывная величина A имеет равномерное распределение на промежутке (200, 800]. Найдите ее среднее значение и дисперсию."
   ]
  },
  {
   "cell_type": "code",
   "execution_count": 7,
   "metadata": {},
   "outputs": [
    {
     "name": "stdout",
     "output_type": "stream",
     "text": [
      "Среднее: 500.0\n",
      "Дисперсия: 30000.0\n"
     ]
    }
   ],
   "source": [
    "L = 200\n",
    "R = 800\n",
    "\n",
    "mean_A = (L + R) / 2\n",
    "print(f'Среднее: {mean_A}')\n",
    "\n",
    "var_A = (R - L) ** 2 / 12\n",
    "print(f'Дисперсия: {var_A}')"
   ]
  },
  {
   "cell_type": "markdown",
   "metadata": {},
   "source": [
    "# 2. О случайной непрерывной равномерно распределенной величине B известно, что ее дисперсия равна 0.2. Можно ли найти правую границу величины B и ее среднее значение зная, что левая граница равна 0.5? Если да, найдите ее."
   ]
  },
  {
   "cell_type": "code",
   "execution_count": 11,
   "metadata": {},
   "outputs": [
    {
     "name": "stdout",
     "output_type": "stream",
     "text": [
      "Правая граница величины: 2.05\n",
      "Среднее: 1.27\n"
     ]
    }
   ],
   "source": [
    "var_B = 0.2\n",
    "L = 0.5\n",
    "\n",
    "R = math.sqrt(var_B * 12) + L\n",
    "print(f'Правая граница величины: {round(R, 2)}')\n",
    "\n",
    "mean_B = (L + R) / 2\n",
    "print(f'Среднее: {round(mean_B, 2)}')"
   ]
  },
  {
   "cell_type": "markdown",
   "metadata": {},
   "source": [
    "# 3. Непрерывная случайная величина X распределена нормально и задана плотностью распределения\n",
    "`f(x) = (1 / (4 * sqrt(2pi))) * exp((-(x+2)**2) / 32)`\n",
    "\n",
    "Найдите:\\\n",
    "а). M(X)\\\n",
    "б). D(X)\\\n",
    "в). std(X) (среднее квадратичное отклонение)"
   ]
  },
  {
   "cell_type": "code",
   "execution_count": 14,
   "metadata": {},
   "outputs": [],
   "source": [
    "# M(X) = -2\n",
    "# D(X) = 16\n",
    "# std(X) = 4"
   ]
  },
  {
   "cell_type": "markdown",
   "metadata": {},
   "source": [
    "# 4. Рост взрослого населения города X имеет нормальное распределение. Причем, средний рост равен 174 см, а среднее квадратичное отклонение равно 8 см.\n",
    "\n",
    "Какова вероятность того, что случайным образом выбранный взрослый человек имеет рост:\\\n",
    "а). больше 182 см\\\n",
    "б). больше 190 см\\\n",
    "в). от 166 см до 190 см\\\n",
    "г). от 166 см до 182 см\\\n",
    "д). от 158 см до 190 см\\\n",
    "е). не выше 150 см или не ниже 190 см\\\n",
    "ё). не выше 150 см или не ниже 198 см\\\n",
    "ж). ниже 166 см.\n"
   ]
  },
  {
   "cell_type": "code",
   "execution_count": 37,
   "metadata": {},
   "outputs": [
    {
     "name": "stdout",
     "output_type": "stream",
     "text": [
      "а) больше 182 см: 15.87%\n",
      "б) больше 190 см: 2.28%\n",
      "в) от 166 см до 190 см: 81.86%\n",
      "г) от 166 см до 182 см: 68.27%\n",
      "д) от 158 см до 190 см: 95.45%\n",
      "е) не выше 150 см или не ниже 190 см: 2.41%\n",
      "ё) не выше 150 см или не ниже 198 см: 0.27%\n",
      "ж) ниже 166 см: 15.87%\n"
     ]
    }
   ],
   "source": [
    "mean_X = 174\n",
    "std_X = 8\n",
    "\n",
    "def find_right_tail_prob(x, mean = mean_X, std = std_X):\n",
    "    Z = (x - mean) / std\n",
    "    return (1 - norm.cdf(Z))\n",
    "\n",
    "def find_inside_prob(x, mean = mean_X, std = std_X):\n",
    "    Z = ((x[0] - mean) / std, (x[1] - mean) / std)\n",
    "    return (norm.cdf(Z[1]) - norm.cdf(Z[0]))\n",
    "\n",
    "def find_outside_prob(x, mean = mean_X, std = std_X):\n",
    "    Z = ((x[0] - mean) / std, (x[1] - mean) / std)\n",
    "    return (norm.cdf(Z[0]) + (1 - norm.cdf(Z[1])))\n",
    "\n",
    "# а)\n",
    "x = 182\n",
    "right_tail_prob = find_right_tail_prob(x)\n",
    "print(f'а) больше {x} см: {round(right_tail_prob*100, 2)}%')\n",
    "\n",
    "# б)\n",
    "x = 190\n",
    "right_tail_prob = find_right_tail_prob(x)\n",
    "print(f'б) больше {x} см: {round(right_tail_prob*100, 2)}%')\n",
    "\n",
    "# в)\n",
    "x = (166, 190)\n",
    "inside_prob = find_inside_prob(x)\n",
    "print(f'в) от {x[0]} см до {x[1]} см: {round(inside_prob*100, 2)}%')\n",
    "\n",
    "# г)\n",
    "x = (166, 182)\n",
    "inside_prob = find_inside_prob(x)\n",
    "print(f'г) от {x[0]} см до {x[1]} см: {round(inside_prob*100, 2)}%')\n",
    "\n",
    "# д)\n",
    "x = (158, 190)\n",
    "inside_prob = find_inside_prob(x)\n",
    "print(f'д) от {x[0]} см до {x[1]} см: {round(inside_prob*100, 2)}%')\n",
    "\n",
    "# е)\n",
    "x = (150, 190)\n",
    "outside_prob = find_outside_prob(x)\n",
    "print(f'е) не выше {x[0]} см или не ниже {x[1]} см: {round(outside_prob*100, 2)}%')\n",
    "\n",
    "# ё)\n",
    "x = (150, 198)\n",
    "outside_prob = find_outside_prob(x)\n",
    "print(f'ё) не выше {x[0]} см или не ниже {x[1]} см: {round(outside_prob*100, 2)}%')\n",
    "\n",
    "# ж)\n",
    "x = 166\n",
    "Z = (x - mean_X) / std_X\n",
    "left_tail_prob = norm.cdf(Z)\n",
    "print(f'ж) ниже {x} см: {round(left_tail_prob*100, 2)}%')"
   ]
  },
  {
   "cell_type": "markdown",
   "metadata": {},
   "source": [
    "# 5. На сколько сигм (средних квадратичных отклонений) отклоняется рост человека, равный 190 см, от математического ожидания роста в популяции, в которой M(X) = 178 см и D(X) = 25 кв.см?"
   ]
  },
  {
   "cell_type": "code",
   "execution_count": 38,
   "metadata": {},
   "outputs": [
    {
     "data": {
      "text/plain": [
       "2.4"
      ]
     },
     "execution_count": 38,
     "metadata": {},
     "output_type": "execute_result"
    }
   ],
   "source": [
    "x = 190\n",
    "mean_X = 178\n",
    "var_X = 25\n",
    "\n",
    "Z = (x - mean_X) / math.sqrt(var_X)\n",
    "Z"
   ]
  }
 ],
 "metadata": {
  "kernelspec": {
   "display_name": "env",
   "language": "python",
   "name": "python3"
  },
  "language_info": {
   "codemirror_mode": {
    "name": "ipython",
    "version": 3
   },
   "file_extension": ".py",
   "mimetype": "text/x-python",
   "name": "python",
   "nbconvert_exporter": "python",
   "pygments_lexer": "ipython3",
   "version": "3.12.4"
  }
 },
 "nbformat": 4,
 "nbformat_minor": 2
}
