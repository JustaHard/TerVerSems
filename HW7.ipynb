{
 "cells": [
  {
   "cell_type": "code",
   "execution_count": 24,
   "metadata": {},
   "outputs": [],
   "source": [
    "from scipy import stats\n",
    "import numpy as np\n",
    "\n",
    "def make_conclusion(p_value):\n",
    "    if p_value < 0.05:\n",
    "        print(f'Обнаружены статистически значимые различия, нулевая гипотеза отвергается (p_value = {p_value:.3f})')\n",
    "    else:\n",
    "        print(f'Статистически значимых различий не обнаружено, нет оснований отвергать нулевую гипотезу (p_value = {p_value:.3f})')"
   ]
  },
  {
   "cell_type": "markdown",
   "metadata": {},
   "source": [
    "1. Даны две  независимые выборки. Не соблюдается условие нормальности"
   ]
  },
  {
   "cell_type": "code",
   "execution_count": 20,
   "metadata": {},
   "outputs": [
    {
     "name": "stdout",
     "output_type": "stream",
     "text": [
      "Статистически значимых различий не обнаружено, нет оснований отвергать нулевую гипотезу (p_value = 0.629)\n"
     ]
    }
   ],
   "source": [
    "x1 = [380, 420, 290]\n",
    "y1 = [140, 360, 200, 900]\n",
    "\n",
    "U_stat, p_value = stats.mannwhitneyu(x1, y1)\n",
    "\n",
    "make_conclusion(p_value)"
   ]
  },
  {
   "cell_type": "markdown",
   "metadata": {},
   "source": [
    "2. Исследовалось влияние препарата на уровень давления пациентов. Сначала измерялось давление до приема препарата, потом через 10 минут и через 30 минут. Есть ли статистически значимые различия?"
   ]
  },
  {
   "cell_type": "code",
   "execution_count": 21,
   "metadata": {},
   "outputs": [
    {
     "name": "stdout",
     "output_type": "stream",
     "text": [
      "Обнаружены статистически значимые различия, нулевая гипотеза отвергается (p_value = 0.008)\n"
     ]
    }
   ],
   "source": [
    "x1 = [150, 160, 165, 145, 155]\n",
    "x2 = [140, 155, 150, 130, 135]\n",
    "x3 = [130, 130, 120, 130, 125]\n",
    "\n",
    "Xi_stat, p_value = stats.friedmanchisquare(x1, x2, x3)\n",
    "\n",
    "make_conclusion(p_value)"
   ]
  },
  {
   "cell_type": "markdown",
   "metadata": {},
   "source": [
    "3. Сравните 1 и 2 е измерения, предполагая, что 3го измерения через 30 минут не было"
   ]
  },
  {
   "cell_type": "code",
   "execution_count": 22,
   "metadata": {},
   "outputs": [
    {
     "name": "stdout",
     "output_type": "stream",
     "text": [
      "Статистически значимых различий не обнаружено, нет оснований отвергать нулевую гипотезу (p_value = 0.062)\n"
     ]
    }
   ],
   "source": [
    "x1 = [150, 160, 165, 145, 155]\n",
    "x2 = [140, 155, 150, 130, 135]\n",
    "\n",
    "W_stat, p_value = stats.wilcoxon(x1, x2)\n",
    "\n",
    "make_conclusion(p_value)"
   ]
  },
  {
   "cell_type": "markdown",
   "metadata": {},
   "source": [
    "4. Даны 3 группы  учеников плавания"
   ]
  },
  {
   "cell_type": "code",
   "execution_count": 23,
   "metadata": {},
   "outputs": [
    {
     "name": "stdout",
     "output_type": "stream",
     "text": [
      "Статистически значимых различий не обнаружено, нет оснований отвергать нулевую гипотезу (p_value = 0.065)\n"
     ]
    }
   ],
   "source": [
    "x1 = [56, 60, 62, 55, 71, 67, 59, 58, 64, 67]\n",
    "x2 = [57, 58, 69, 48, 72, 70, 68, 71, 50, 53]\n",
    "x3 = [57, 67, 49, 48, 47, 55, 66, 51, 54]\n",
    "\n",
    "H_stat, p_value = stats.kruskal(x1, x2, x3)\n",
    "\n",
    "make_conclusion(p_value)"
   ]
  },
  {
   "cell_type": "markdown",
   "metadata": {},
   "source": [
    "5. Заявляется, что партия изготавливается со средним арифметическим 2,5 см. Проверить данную гипотезу, если известно, что размеры изделий подчинены нормальному закону распределения. Объем выборки 10, уровень статистической значимости 5%"
   ]
  },
  {
   "cell_type": "code",
   "execution_count": 28,
   "metadata": {},
   "outputs": [
    {
     "name": "stdout",
     "output_type": "stream",
     "text": [
      "Статистически значимых различий не выявлено, нет оснований отклонять нулевую гипотезу\n"
     ]
    }
   ],
   "source": [
    "data = [2.51, 2.35, 2.74, 2.56, 2.40, 2.36, 2.65, 2.7, 2.67, 2.34]\n",
    "\n",
    "mean_gen = 2.5\n",
    "n = 10\n",
    "alpha = 0.05\n",
    "\n",
    "mean_n = np.mean(data)\n",
    "std_n = np.std(data, ddof=1)\n",
    "\n",
    "t_stat = abs(mean_n - mean_gen) / (std_n / np.sqrt(n))\n",
    "t_crit = stats.t.ppf(1 - alpha / 2, n - 1)\n",
    "\n",
    "if t_stat > t_crit:\n",
    "    print('Выявлены статистически значимые различия, отклоняем нулевую гипотезу')\n",
    "else:\n",
    "    print('Статистически значимых различий не выявлено, нет оснований отклонять нулевую гипотезу')"
   ]
  }
 ],
 "metadata": {
  "kernelspec": {
   "display_name": "env",
   "language": "python",
   "name": "python3"
  },
  "language_info": {
   "codemirror_mode": {
    "name": "ipython",
    "version": 3
   },
   "file_extension": ".py",
   "mimetype": "text/x-python",
   "name": "python",
   "nbconvert_exporter": "python",
   "pygments_lexer": "ipython3",
   "version": "3.12.4"
  }
 },
 "nbformat": 4,
 "nbformat_minor": 2
}
