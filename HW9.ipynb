{
 "cells": [
  {
   "cell_type": "code",
   "execution_count": 1,
   "metadata": {},
   "outputs": [],
   "source": [
    "import numpy as np"
   ]
  },
  {
   "cell_type": "markdown",
   "metadata": {},
   "source": [
    "1. Даны значения величины заработной платы заемщиков банка (zp) и значения их поведенческого кредитного скоринга (ks): zp = [35, 45, 190, 200, 40, 70, 54, 150, 120, 110], ks = [401, 574, 874, 919, 459, 739, 653, 902, 746, 832]. Используя математические операции, посчитать коэффициенты линейной регрессии, приняв за X заработную плату (то есть, zp - признак), а за y - значения скорингового балла (то есть, ks - целевая переменная). Произвести расчет как с использованием intercept, так и без."
   ]
  },
  {
   "cell_type": "code",
   "execution_count": 10,
   "metadata": {},
   "outputs": [
    {
     "name": "stdout",
     "output_type": "stream",
     "text": [
      "Расчет с intercept:\n",
      "slope = 2.62\n",
      "intercept = 444.18\n",
      "----------------\n",
      "Расчет без intercept:\n",
      "slope = 5.89\n"
     ]
    }
   ],
   "source": [
    "x = [35, 45, 190, 200, 40, 70, 54, 150, 120, 110]\n",
    "y = [401, 574, 874, 919, 459, 739, 653, 902, 746, 832]\n",
    "n = len(x)\n",
    "\n",
    "# Расчет с intercept\n",
    "slope = (n * np.sum([x[i] * y[i] for i in range(n)]) - np.sum(x) * np.sum(y)) / (n * np.sum([x_value ** 2 for x_value in x]) - np.sum(x) ** 2)\n",
    "intercept = (sum(y) - slope * sum(x)) / n\n",
    "print(f'Расчет с intercept:\\nslope = {slope:.2f}\\nintercept = {intercept:.2f}')\n",
    "\n",
    "# Расчет без intercept\n",
    "slope = np.sum([x[i] * y[i] for i in range(n)]) / np.sum([x_value ** 2 for x_value in x])\n",
    "print(f'----------------\\nРасчет без intercept:\\nslope = {slope:.2f}')\n"
   ]
  },
  {
   "cell_type": "code",
   "execution_count": null,
   "metadata": {},
   "outputs": [],
   "source": []
  }
 ],
 "metadata": {
  "kernelspec": {
   "display_name": "env",
   "language": "python",
   "name": "python3"
  },
  "language_info": {
   "codemirror_mode": {
    "name": "ipython",
    "version": 3
   },
   "file_extension": ".py",
   "mimetype": "text/x-python",
   "name": "python",
   "nbconvert_exporter": "python",
   "pygments_lexer": "ipython3",
   "version": "3.12.4"
  }
 },
 "nbformat": 4,
 "nbformat_minor": 2
}
