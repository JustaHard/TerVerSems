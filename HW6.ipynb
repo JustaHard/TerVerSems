{
 "cells": [
  {
   "cell_type": "code",
   "execution_count": 17,
   "metadata": {},
   "outputs": [],
   "source": [
    "from scipy import stats\n",
    "import numpy as np"
   ]
  },
  {
   "cell_type": "markdown",
   "metadata": {},
   "source": [
    "1. Известно, что генеральная совокупность распределена нормально со средним квадратическим отклонением, равным 16. Найти доверительный интервал для оценки математического ожидания a с надежностью 0.95, если выборочная средняя M = 80, а объем выборки n = 256."
   ]
  },
  {
   "cell_type": "code",
   "execution_count": 18,
   "metadata": {},
   "outputs": [
    {
     "data": {
      "text/plain": [
       "(np.float64(78.04), np.float64(81.96))"
      ]
     },
     "execution_count": 18,
     "metadata": {},
     "output_type": "execute_result"
    }
   ],
   "source": [
    "std_gen = 16\n",
    "alpha = 0.05\n",
    "m = 80\n",
    "n = 256\n",
    "\n",
    "z_crit = stats.norm.ppf(1 - alpha / 2)\n",
    "standart_error = std_gen / np.sqrt(n)\n",
    "\n",
    "interval = (round(m - z_crit * standart_error, 2), \n",
    "            round(m + z_crit * standart_error, 2))\n",
    "interval"
   ]
  },
  {
   "cell_type": "markdown",
   "metadata": {},
   "source": [
    "2. В результате 10 независимых измерений некоторой величины X, выполненных с одинаковой точностью, получены опытные данные: 6.9, 6.1, 6.2, 6.8, 7.5, 6.3, 6.4, 6.9, 6.7, 6.1 Предполагая, что результаты измерений подчинены нормальному закону распределения вероятностей, оценить истинное значение величины X при помощи доверительного интервала, покрывающего это значение с доверительной вероятностью 0,95."
   ]
  },
  {
   "cell_type": "code",
   "execution_count": 28,
   "metadata": {},
   "outputs": [
    {
     "data": {
      "text/plain": [
       "(np.float64(6.27), np.float64(6.91))"
      ]
     },
     "execution_count": 28,
     "metadata": {},
     "output_type": "execute_result"
    }
   ],
   "source": [
    "data = (6.9, 6.1, 6.2, 6.8, 7.5, 6.3, 6.4, 6.9, 6.7, 6.1)\n",
    "alpha = 0.05\n",
    "\n",
    "n = len(data)\n",
    "std_n = np.std(data, ddof=1)\n",
    "standart_error = std_n / np.sqrt(n)\n",
    "mean_n = np.mean(data)\n",
    "ddof = n - 1\n",
    "t_crit = stats.t.ppf(1 - alpha / 2, ddof)\n",
    "\n",
    "interval = (round(mean_n - t_crit * standart_error, 2), \n",
    "            round(mean_n + t_crit * standart_error, 2))\n",
    "interval"
   ]
  },
  {
   "cell_type": "markdown",
   "metadata": {},
   "source": [
    "3. Рост дочерей 175, 167, 154, 174, 178, 148, 160, 167, 169, 170 Рост матерей  178, 165, 165, 173, 168, 155, 160, 164, 178, 175 Используя эти данные построить 95% доверительный интервал для разности среднего роста родителей и детей."
   ]
  },
  {
   "cell_type": "code",
   "execution_count": 29,
   "metadata": {},
   "outputs": [
    {
     "data": {
      "text/plain": [
       "(np.float64(-5.57), np.float64(9.37))"
      ]
     },
     "execution_count": 29,
     "metadata": {},
     "output_type": "execute_result"
    }
   ],
   "source": [
    "daughters = (175, 167, 154, 174, 178, 148, 160, 167, 169, 170)\n",
    "moms = (178, 165, 165, 173, 168, 155, 160, 164, 178, 175)\n",
    "alpha = 0.05\n",
    "\n",
    "n_d = len(daughters)\n",
    "n_m = len(moms)\n",
    "var = 0.5 * (np.var(daughters) + np.var(moms))\n",
    "standart_error = np.sqrt(var / n_d + var / n_m)\n",
    "\n",
    "mean_d = np.mean(daughters)\n",
    "mean_m = np.mean(moms)\n",
    "delta = abs(mean_d - mean_m)\n",
    "\n",
    "ddof = 2 * (n_d + n_m - 1)\n",
    "t_crit = stats.t.ppf(1 - alpha / 2, ddof)\n",
    "\n",
    "interval = (round(delta - t_crit * standart_error, 2),\n",
    "            round(delta + t_crit * standart_error, 2))\n",
    "interval"
   ]
  }
 ],
 "metadata": {
  "kernelspec": {
   "display_name": "env",
   "language": "python",
   "name": "python3"
  },
  "language_info": {
   "codemirror_mode": {
    "name": "ipython",
    "version": 3
   },
   "file_extension": ".py",
   "mimetype": "text/x-python",
   "name": "python",
   "nbconvert_exporter": "python",
   "pygments_lexer": "ipython3",
   "version": "3.12.4"
  }
 },
 "nbformat": 4,
 "nbformat_minor": 2
}
