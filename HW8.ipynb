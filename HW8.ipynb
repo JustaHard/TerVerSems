{
 "cells": [
  {
   "cell_type": "code",
   "execution_count": 22,
   "metadata": {},
   "outputs": [],
   "source": [
    "import numpy as np\n",
    "from scipy import stats"
   ]
  },
  {
   "cell_type": "markdown",
   "metadata": {},
   "source": [
    "1. Даны значения величины заработной платы заемщиков банка (zp) и значения их поведенческого кредитного скоринга (ks): zp = [35, 45, 190, 200, 40, 70, 54, 150, 120, 110], ks = [401, 574, 874, 919, 459, 739, 653, 902, 746, 832]. Найдите ковариацию этих двух величин с помощью элементарных действий, а затем с помощью функции cov из numpy Полученные значения должны быть равны. Найдите коэффициент корреляции Пирсона с помощью ковариации и среднеквадратичных отклонений двух признаков, а затем с использованием функций из библиотек numpy и pandas."
   ]
  },
  {
   "cell_type": "code",
   "execution_count": 15,
   "metadata": {},
   "outputs": [
    {
     "name": "stdout",
     "output_type": "stream",
     "text": [
      "Вручную: 10175.38\n",
      "Программно: 10175.38\n"
     ]
    }
   ],
   "source": [
    "# Находим ковариацию двумя методами\n",
    "zp = [35, 45, 190, 200, 40, 70, 54, 150, 120, 110]\n",
    "ks = [401, 574, 874, 919, 459, 739, 653, 902, 746, 832]\n",
    "\n",
    "n = len(zp)\n",
    "\n",
    "zp_mean = np.mean(zp)\n",
    "ks_mean = np.mean(ks)\n",
    "\n",
    "cov_zp_ks_manual = sum([(zp[i] - zp_mean) * (ks[i] - ks_mean) for i in range(n)]) / (n - 1)\n",
    "print(f'Вручную: {cov_zp_ks_manual:.2f}')\n",
    "\n",
    "cov_zp_ks_auto = np.cov(zp, ks)[0, 1]\n",
    "print(f'Программно: {cov_zp_ks_auto:.2f}')"
   ]
  },
  {
   "cell_type": "code",
   "execution_count": 21,
   "metadata": {},
   "outputs": [
    {
     "name": "stdout",
     "output_type": "stream",
     "text": [
      "Вручную: 0.8875\n",
      "Программно: 0.8875\n"
     ]
    }
   ],
   "source": [
    "# Находим коэффициент коррелиции Пирсона двумя методами\n",
    "std_zp_manual = np.sqrt(sum([(zp_value - zp_mean) ** 2 for zp_value in zp]) / (n - 1))\n",
    "std_ks_manual = np.sqrt(sum([(ks_value - ks_mean) ** 2 for ks_value in ks]) / (n - 1))\n",
    "corr_coef_manual = cov_zp_ks_manual / (std_ks_manual * std_zp_manual)\n",
    "print(f'Вручную: {corr_coef_manual:.4f}')\n",
    "\n",
    "corr_coef_auto = np.corrcoef(zp, ks)[0, 1]\n",
    "print(f'Программно: {corr_coef_auto:.4f}')"
   ]
  },
  {
   "cell_type": "markdown",
   "metadata": {},
   "source": [
    "2. Измерены значения IQ выборки студентов, обучающихся в местных технических вузах: 131, 125, 115, 122, 131, 115, 107, 99, 125, 111. Известно, что в генеральной совокупности IQ распределен нормально. Найдите доверительный интервал для математического ожидания с надежностью 0.95."
   ]
  },
  {
   "cell_type": "code",
   "execution_count": 25,
   "metadata": {},
   "outputs": [
    {
     "name": "stdout",
     "output_type": "stream",
     "text": [
      "Доверительный интервал при надежности 95.0%: [110.56 ; 125.64]\n"
     ]
    }
   ],
   "source": [
    "iqs = [131, 125, 115, 122, 131, 115, 107, 99, 125, 111]\n",
    "alpha = 0.05\n",
    "\n",
    "mean = np.mean(iqs)\n",
    "n = len(iqs)\n",
    "\n",
    "se = np.std(iqs, ddof=1) / np.sqrt(n)\n",
    "\n",
    "t_value = stats.t.ppf(1-alpha/2, n-1)\n",
    "\n",
    "interval = (mean - t_value * se, mean + t_value * se)\n",
    "print(f'Доверительный интервал при надежности {(1-alpha)*100}%: [{interval[0]:.2f} ; {interval[1]:.2f}]')"
   ]
  },
  {
   "cell_type": "markdown",
   "metadata": {},
   "source": [
    "3. Известно, что рост футболистов в сборной распределен нормально с дисперсией генеральной совокупности, равной 25 кв.см. Объем выборки равен 27, среднее выборочное составляет 174.2. Найдите доверительный интервал для математического ожидания с надежностью 0.95."
   ]
  },
  {
   "cell_type": "code",
   "execution_count": 26,
   "metadata": {},
   "outputs": [
    {
     "name": "stdout",
     "output_type": "stream",
     "text": [
      "Доверительный интервал при надежности 95.0%: [172.31 ; 176.09]\n"
     ]
    }
   ],
   "source": [
    "var_gen = 25\n",
    "n = 27\n",
    "mean_n = 174.2\n",
    "alpha = 0.05\n",
    "\n",
    "se = np.sqrt(var_gen / n)\n",
    "z_value = stats.norm.ppf(1-alpha/2)\n",
    "\n",
    "interval = (mean_n - z_value * se, mean_n + z_value * se)\n",
    "print(f'Доверительный интервал при надежности {(1-alpha)*100}%: [{interval[0]:.2f} ; {interval[1]:.2f}]')"
   ]
  }
 ],
 "metadata": {
  "kernelspec": {
   "display_name": "env",
   "language": "python",
   "name": "python3"
  },
  "language_info": {
   "codemirror_mode": {
    "name": "ipython",
    "version": 3
   },
   "file_extension": ".py",
   "mimetype": "text/x-python",
   "name": "python",
   "nbconvert_exporter": "python",
   "pygments_lexer": "ipython3",
   "version": "3.12.4"
  }
 },
 "nbformat": 4,
 "nbformat_minor": 2
}
