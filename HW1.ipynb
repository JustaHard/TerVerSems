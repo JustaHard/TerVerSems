{
 "cells": [
  {
   "cell_type": "code",
   "execution_count": 3,
   "metadata": {},
   "outputs": [],
   "source": [
    "import math"
   ]
  },
  {
   "cell_type": "markdown",
   "metadata": {},
   "source": [
    "# Задание 1. Из колоды в 52 карты извлекаются случайным образом 4 карты"
   ]
  },
  {
   "cell_type": "code",
   "execution_count": 1,
   "metadata": {},
   "outputs": [],
   "source": [
    "N = 52 # Общая выборка\n",
    "n = 4 # Необходимая выборка"
   ]
  },
  {
   "cell_type": "markdown",
   "metadata": {},
   "source": [
    "## a) Найти вероятность того, что все карты – крести"
   ]
  },
  {
   "cell_type": "code",
   "execution_count": 24,
   "metadata": {},
   "outputs": [
    {
     "name": "stdout",
     "output_type": "stream",
     "text": [
      "Вероятность вытянуть все 4 карты крести: 0.26%\n"
     ]
    }
   ],
   "source": [
    "def C(A, a):\n",
    "    return int(math.factorial(A) / (math.factorial(a) * math.factorial(A - a)))\n",
    "\n",
    "k = int(52 / 4) # Условие выборки (только карты масти крести)\n",
    "\n",
    "P = C(k, n) / C(N, n)\n",
    "print(f'Вероятность вытянуть все 4 карты крести: {round(P*100, 2)}%')"
   ]
  },
  {
   "cell_type": "markdown",
   "metadata": {},
   "source": [
    "## б) Найти вероятность, что среди 4-х карт окажется хотя бы один туз"
   ]
  },
  {
   "cell_type": "code",
   "execution_count": 22,
   "metadata": {},
   "outputs": [
    {
     "name": "stdout",
     "output_type": "stream",
     "text": [
      "Вероятность вытянуть хотя бы один туз: 28.13%\n"
     ]
    }
   ],
   "source": [
    "def C(A, a):\n",
    "    return int(math.factorial(A) / (math.factorial(a) * math.factorial(A - a)))\n",
    "\n",
    "k = 4 # Условие выборки (только тузы)\n",
    "\n",
    "NumOfCorrectOptions = 0\n",
    "for i in range(1, 5): # range(1, 5) - возможные количества тузов в вытянутых картах\n",
    "    NumOfCorrectOptions += C(k, i) * C(N-k, n-i)\n",
    "\n",
    "P = NumOfCorrectOptions / C(N, n)\n",
    "print(f'Вероятность вытянуть хотя бы один туз: {round(P*100, 2)}%')"
   ]
  },
  {
   "cell_type": "markdown",
   "metadata": {},
   "source": [
    "# Задание 2. На входной двери подъезда установлен кодовый замок, содержащий десять кнопок с цифрами от 0 до 9. Код содержит три цифры, которые нужно нажать одновременно. Какова вероятность того, что человек, не знающий код, откроет дверь с первой попытки?"
   ]
  },
  {
   "cell_type": "code",
   "execution_count": 34,
   "metadata": {},
   "outputs": [
    {
     "name": "stdout",
     "output_type": "stream",
     "text": [
      "Вероятность нажать верную комбинацию клавиш с первой попытки: 0.83%\n"
     ]
    }
   ],
   "source": [
    "def C(A, a):\n",
    "    return int(math.factorial(A) / (math.factorial(a) * math.factorial(A - a)))\n",
    "\n",
    "N = 10 # Имеющиеся кнопки, которые может нажать человек\n",
    "n = 3 # Количество верных кнопок\n",
    "\n",
    "ButtonCombinations = C(N, n)\n",
    "print(f'Вероятность нажать верную комбинацию клавиш с первой попытки: {round(1/ButtonCombinations*100, 2)}%')"
   ]
  },
  {
   "cell_type": "markdown",
   "metadata": {},
   "source": [
    "# Задание 3. В ящике имеется 15 деталей, из которых 9 окрашены. Рабочий случайным образом извлекает 3 детали. Какова вероятность того, что все извлеченные детали окрашены?"
   ]
  },
  {
   "cell_type": "code",
   "execution_count": 35,
   "metadata": {},
   "outputs": [
    {
     "name": "stdout",
     "output_type": "stream",
     "text": [
      "Вероятность того, что все извлеченные детали окрашены: 18.46%\n"
     ]
    }
   ],
   "source": [
    "def C(A, a):\n",
    "    return int(math.factorial(A) / (math.factorial(a) * math.factorial(A - a)))\n",
    "\n",
    "N = 15 # Общее количество деталей\n",
    "n = 3 # Количество извлекаемых деталей\n",
    "k = 9 # Количество окрашенных деталей\n",
    "\n",
    "P = C(k, n) / C(N, n)\n",
    "print(f'Вероятность того, что все извлеченные детали окрашены: {round(P*100, 2)}%')"
   ]
  },
  {
   "cell_type": "markdown",
   "metadata": {},
   "source": [
    "# Задача 4. В лотерее 100 билетов. Из них 2 выигрышных. Какова вероятность того, что 2 приобретенных билета окажутся выигрышными?"
   ]
  },
  {
   "cell_type": "code",
   "execution_count": 40,
   "metadata": {},
   "outputs": [
    {
     "name": "stdout",
     "output_type": "stream",
     "text": [
      "Вероятность того, что оба приобретенных билета окажутся выигрышными: 0.02%\n"
     ]
    }
   ],
   "source": [
    "def C(A, a):\n",
    "    return int(math.factorial(A) / (math.factorial(a) * math.factorial(A - a)))\n",
    "\n",
    "N = 100 # Общее число билетов\n",
    "n = 2 # Количество купленных билетов\n",
    "\n",
    "P = 1 / C(N, n)\n",
    "print(f'Вероятность того, что оба приобретенных билета окажутся выигрышными: {round(P*100, 2)}%')"
   ]
  }
 ],
 "metadata": {
  "kernelspec": {
   "display_name": "env",
   "language": "python",
   "name": "python3"
  },
  "language_info": {
   "codemirror_mode": {
    "name": "ipython",
    "version": 3
   },
   "file_extension": ".py",
   "mimetype": "text/x-python",
   "name": "python",
   "nbconvert_exporter": "python",
   "pygments_lexer": "ipython3",
   "version": "3.12.4"
  }
 },
 "nbformat": 4,
 "nbformat_minor": 2
}
